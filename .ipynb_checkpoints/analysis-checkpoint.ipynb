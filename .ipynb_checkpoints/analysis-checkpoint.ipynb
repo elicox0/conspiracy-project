{
 "cells": [
  {
   "cell_type": "markdown",
   "metadata": {},
   "source": [
    "## Overview"
   ]
  },
  {
   "cell_type": "markdown",
   "metadata": {},
   "source": [
    "\n",
    "## Data Cleaning"
   ]
  },
  {
   "cell_type": "markdown",
   "metadata": {},
   "source": [
    "## Feature Engineering\n",
    "First, we create $\\mathbf{y}$, the feature we would like to predict, as the normalized average of responses to questions 1-15 on the survey. Those questions include, for example, \"Secret organizations communicate with extraterrestrials, but keep this fact from the public\" and \"The spread of certain viruses and/or diseases is the result of the deliberate, concealed efforts of some organization\", and participants are asked to respond with their level of agreement from 1 to 7."
   ]
  },
  {
   "cell_type": "markdown",
   "metadata": {},
   "source": [
    "## Results\n",
    "\\begin{center}\n",
    "\\begin{tabular}{lclc}\n",
    "\\toprule\n",
    "\\textbf{Dep. Variable:}                &       GCB        & \\textbf{  R-squared:         } &     0.139   \\\\\n",
    "\\textbf{Model:}                        &       OLS        & \\textbf{  Adj. R-squared:    } &     0.133   \\\\\n",
    "\\textbf{Method:}                       &  Least Squares   & \\textbf{  F-statistic:       } &     22.29   \\\\\n",
    "\\textbf{Date:}                         & Wed, 17 Nov 2021 & \\textbf{  Prob (F-statistic):} &  3.82e-68   \\\\\n",
    "\\textbf{Time:}                         &     12:56:52     & \\textbf{  Log-Likelihood:    } &    579.98   \\\\\n",
    "\\textbf{No. Observations:}             &        2495      & \\textbf{  AIC:               } &    -1122.   \\\\\n",
    "\\textbf{Df Residuals:}                 &        2476      & \\textbf{  BIC:               } &    -1011.   \\\\\n",
    "\\textbf{Df Model:}                     &          18      & \\textbf{                     } &             \\\\\n",
    "\\textbf{Covariance Type:}              &    nonrobust     & \\textbf{                     } &             \\\\\n",
    "\\bottomrule\n",
    "\\end{tabular}\n",
    "\\begin{tabular}{lcccccc}\n",
    "                                       & \\textbf{coef} & \\textbf{std err} & \\textbf{t} & \\textbf{P$> |$t$|$} & \\textbf{[0.025} & \\textbf{0.975]}  \\\\\n",
    "\\midrule\n",
    "\\textbf{TIPI2}                         &       0.0142  &        0.002     &     6.565  &         0.000        &        0.010    &        0.018     \\\\\n",
    "\\textbf{TIPI5}                         &       0.0056  &        0.003     &     2.008  &         0.045        &        0.000    &        0.011     \\\\\n",
    "\\textbf{TIPI6}                         &      -0.0014  &        0.002     &    -0.670  &         0.503        &       -0.006    &        0.003     \\\\\n",
    "\\textbf{vocabulary\\_misclassification} &       0.0706  &        0.017     &     4.051  &         0.000        &        0.036    &        0.105     \\\\\n",
    "\\textbf{STEM}                          &      -0.0383  &        0.010     &    -3.774  &         0.000        &       -0.058    &       -0.018     \\\\\n",
    "\\textbf{education\\_2}                  &       0.0380  &        0.009     &     4.120  &         0.000        &        0.020    &        0.056     \\\\\n",
    "\\textbf{education\\_3}                  &       0.0088  &        0.011     &     0.812  &         0.417        &       -0.012    &        0.030     \\\\\n",
    "\\textbf{urban\\_3}                      &       0.0242  &        0.008     &     2.882  &         0.004        &        0.008    &        0.041     \\\\\n",
    "\\textbf{gender\\_2}                     &       0.0219  &        0.008     &     2.707  &         0.007        &        0.006    &        0.038     \\\\\n",
    "\\textbf{engnat\\_1}                     &       0.0061  &        0.009     &     0.653  &         0.514        &       -0.012    &        0.025     \\\\\n",
    "\\textbf{religion\\_2}                   &      -0.0753  &        0.009     &    -8.266  &         0.000        &       -0.093    &       -0.057     \\\\\n",
    "\\textbf{religion\\_3}                   &       0.0873  &        0.028     &     3.119  &         0.002        &        0.032    &        0.142     \\\\\n",
    "\\textbf{religion\\_7}                   &       0.0603  &        0.014     &     4.179  &         0.000        &        0.032    &        0.089     \\\\\n",
    "\\textbf{religion\\_12}                  &       0.0996  &        0.013     &     7.947  &         0.000        &        0.075    &        0.124     \\\\\n",
    "\\textbf{orientation\\_2}                &      -0.0120  &        0.011     &    -1.130  &         0.259        &       -0.033    &        0.009     \\\\\n",
    "\\textbf{orientation\\_5}                &       0.0431  &        0.017     &     2.525  &         0.012        &        0.010    &        0.077     \\\\\n",
    "\\textbf{voted\\_2}                      &       0.0260  &        0.009     &     3.022  &         0.003        &        0.009    &        0.043     \\\\\n",
    "\\textbf{married\\_1}                    &      -0.0284  &        0.010     &    -2.842  &         0.005        &       -0.048    &       -0.009     \\\\\n",
    "\\textbf{constant}                      &       0.2304  &        0.013     &    17.307  &         0.000        &        0.204    &        0.257     \\\\\n",
    "\\textbf{const}                         &       0.2304  &        0.013     &    17.307  &         0.000        &        0.204    &        0.257     \\\\\n",
    "\\bottomrule\n",
    "\\end{tabular}\n",
    "\\begin{tabular}{lclc}\n",
    "\\textbf{Omnibus:}       & 85.135 & \\textbf{  Durbin-Watson:     } &    1.925  \\\\\n",
    "\\textbf{Prob(Omnibus):} &  0.000 & \\textbf{  Jarque-Bera (JB):  } &   42.486  \\\\\n",
    "\\textbf{Skew:}          &  0.107 & \\textbf{  Prob(JB):          } & 5.95e-10  \\\\\n",
    "\\textbf{Kurtosis:}      &  2.398 & \\textbf{  Cond. No.          } & 5.64e+17  \\\\\n",
    "\\bottomrule\n",
    "\\end{tabular}\n",
    "%\\caption{OLS Regression Results}\n",
    "\\end{center}\n",
    "\n",
    "Notes: \\newline\n",
    " [1] Standard Errors assume that the covariance matrix of the errors is correctly specified. \\newline\n",
    " [2] The smallest eigenvalue is 6.51e-31. This might indicate that there are \\newline\n",
    " strong multicollinearity problems or that the design matrix is singular.\n",
    " \n",
    "$R^2$ is small, but we found some variables that are slightly correlated with belief in conspiracy theories, blah blah blah."
   ]
  }
 ],
 "metadata": {
  "kernelspec": {
   "display_name": "Python 3 (ipykernel)",
   "language": "python",
   "name": "python3"
  },
  "language_info": {
   "codemirror_mode": {
    "name": "ipython",
    "version": 3
   },
   "file_extension": ".py",
   "mimetype": "text/x-python",
   "name": "python",
   "nbconvert_exporter": "python",
   "pygments_lexer": "ipython3",
   "version": "3.9.7"
  }
 },
 "nbformat": 4,
 "nbformat_minor": 4
}
