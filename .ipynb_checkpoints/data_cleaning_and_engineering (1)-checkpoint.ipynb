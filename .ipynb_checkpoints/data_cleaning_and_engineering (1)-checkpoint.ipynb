{
 "cells": [
  {
   "cell_type": "code",
   "execution_count": 70,
   "metadata": {},
   "outputs": [],
   "source": [
    "from sklearn.model_selection import train_test_split\n",
    "from sklearn.linear_model import LogisticRegression\n",
    "import pandas as pd\n",
    "from matplotlib import pyplot as plt\n",
    "import numpy as np"
   ]
  },
  {
   "cell_type": "code",
   "execution_count": 95,
   "metadata": {},
   "outputs": [
    {
     "data": {
      "text/plain": [
       "Index(['E1', 'E2', 'E3', 'E4', 'E5', 'E6', 'E7', 'E8', 'E9', 'E10', 'E11',\n",
       "       'E12', 'E13', 'E14', 'E15', 'introelapse', 'testelapse', 'surveyelapse',\n",
       "       'TIPI1', 'TIPI2', 'TIPI3', 'TIPI4', 'TIPI5', 'TIPI6', 'TIPI7', 'TIPI8',\n",
       "       'TIPI9', 'TIPI10', 'age', 'familysize', 'major', 'GCB', 'validity',\n",
       "       'vocabulary_knowledge', 'STEM', 'HUM', 'BUS', 'OTHER', 'ART',\n",
       "       'education_1', 'education_2', 'education_3', 'education_4', 'urban_1',\n",
       "       'urban_2', 'urban_3', 'gender_1', 'gender_2', 'gender_3', 'engnat_1',\n",
       "       'engnat_2', 'hand_1', 'hand_2', 'hand_3', 'religion_1', 'religion_2',\n",
       "       'religion_3', 'religion_4', 'religion_5', 'religion_6', 'religion_7',\n",
       "       'religion_8', 'religion_9', 'religion_10', 'religion_11', 'religion_12',\n",
       "       'orientation_1', 'orientation_2', 'orientation_3', 'orientation_4',\n",
       "       'orientation_5', 'race_1', 'race_2', 'race_3', 'race_4', 'race_5',\n",
       "       'voted_1', 'voted_2', 'married_1', 'married_2', 'married_3',\n",
       "       'constant'],\n",
       "      dtype='object')"
      ]
     },
     "execution_count": 95,
     "metadata": {},
     "output_type": "execute_result"
    }
   ],
   "source": [
    "df = pd.read_csv(\"conspiracy_theories_data_orig.csv\")\n",
    "verbose = False\n",
    "# Only NaN values are in \"major\" column, so no other cleaning is necessary\n",
    "# Benefit of working with survey data as opposed to data collected using messier methods\n",
    "# TODO: check for survey responses that don't make sense (answered just the default answer for all \n",
    "# questions); these should be thrown out\n",
    "\n",
    "# Measure for General Conspiracy Belief. Normalized average of responses to questions 1-15 of survey\n",
    "df['GCB'] = df[['Q'+str(i) for i in range(1, 16)]].mean(axis=1) / 5\n",
    "df.drop(columns=['Q'+str(i) for i in range(1, 16)], inplace=True)\n",
    "\n",
    "# The survey asked participants what words they knew. Columns VCL6, VCL9, VCL12 were not real words, and were included in \n",
    "# order to perform a validity check\n",
    "\n",
    "df['validity'] = df[['VCL6', 'VCL9', 'VCL12']].mean(axis=1)\n",
    "# Score how many vocab questions the respondent answered correctly. 0 is correct for VCL 6, 9, 12, and 1 is correct for all others.\n",
    "\n",
    "df['vocabulary_knowledge'] = (df[['VCL' + str(i) for i in [1, 2, 3, 4, 5, 7, 8, 10, 11, 13, 14, 15, 16]]] \n",
    "                              + (1 - df[['VCL' + str(i) for i in [6,9,12]]])).mean(axis=1)\n",
    "\n",
    "df.drop(columns=['VCL'+str(i) for i in range(1, 17)], inplace=True)\n",
    "\n",
    "#I split up every instance of \"major\" to a category: HUM (Humanities), BUS (business/law), ART, STEM, and OTHER. \n",
    "#This block creates a one-hot encoding for each of these.\n",
    "names = [\"STEM\", \"HUM\", \"BUS\", \"OTHER\", \"ART\"]\n",
    "for name in names:\n",
    "    # For each category, there is a file of strings of majors that should be classified as that category\n",
    "    # Read in the corresponding file\n",
    "    tf = open(f\"{name}.txt\", \"r\",newline='\\n')\n",
    "    # Grab all the strings in the file\n",
    "    majors = [i[:-2] for i in tf.readlines()]\n",
    "    def func(x): # If string is in the list of majors, return a 1, else a 0\n",
    "        return int(x in majors)\n",
    "    func = np.vectorize(func)\n",
    "    df[name] = 1 \n",
    "    df[name] = df.major.apply(func) # Create  a new column with the one hot encoding for the given category\n",
    "    \n",
    "# One hot encode the other features\n",
    "categorical_columns = ['education','urban', 'gender', 'engnat', 'hand', 'religion', 'orientation','race', 'voted', 'married']\n",
    "df = pd.get_dummies(df, columns=categorical_columns, drop_first=True)\n",
    "df[\"constant\"] = 1\n",
    "df.columns\n",
    "# The columns 'TIPI1', 'TIPI2', 'TIPI3', 'TIPI4', 'TIPI5', 'TIPI6', 'TIPI7', 'TIPI8',\n",
    "#        'TIPI9', 'TIPI10', 'age', 'familysize', 'major', 'GCB', 'validity',\n",
    "#        'vocabulary_knowledge', 'STEM', 'HUM', 'BUS', 'OTHER', 'ART',\n",
    "#        'education_1', 'education_2', 'education_3', 'education_4', 'urban_1',\n",
    "#        'urban_2', 'urban_3', 'gender_1', 'gender_2', 'gender_3', 'engnat_1',\n",
    "#        'engnat_2', 'hand_1', 'hand_2', 'hand_3', 'religion_1', 'religion_2',\n",
    "#        'religion_3', 'religion_4', 'religion_5', 'religion_6', 'religion_7',\n",
    "#        'religion_8', 'religion_9', 'religion_10', 'religion_11', 'religion_12',\n",
    "#        'orientation_1', 'orientation_2', 'orientation_3', 'orientation_4',\n",
    "#        'orientation_5', 'race_1', 'race_2', 'race_3', 'race_4', 'race_5',\n",
    "#        'voted_1', 'voted_2', 'married_1', 'married_2', 'married_3',\n",
    "#        'constant'\n",
    "# are all fair game for regression. "
   ]
  },
  {
   "cell_type": "code",
   "execution_count": 75,
   "metadata": {},
   "outputs": [],
   "source": [
    "# Are there any rows where the user just answered the same for all relevant questions? \n",
    "# Are there any rows that were only partially completed? \n",
    "    # For the above two, could look at time to complete survey\n",
    "# TODO: One-hot encode the rest of the categorical data"
   ]
  },
  {
   "cell_type": "code",
   "execution_count": 81,
   "metadata": {},
   "outputs": [
    {
     "name": "stdout",
     "output_type": "stream",
     "text": [
      "# Surveys that took over an hour to take (including landing pad time)\n",
      "63\n",
      "# Surveys that took over an hour to take (excluding landing pad time)\n",
      "19\n",
      "# Surveys that spent over an hour on the landing pad\n",
      "44\n"
     ]
    }
   ],
   "source": [
    "# df[\"introelapse\"].hist()\n",
    "df[\"total_time_taken_(mins)\"] = (df[\"introelapse\"] + df[\"testelapse\"] + df[\"surveyelapse\"])/60\n",
    "df[\"total_survey_time_taken_(mins)\"] = (df[\"testelapse\"] + df[\"surveyelapse\"])/60\n",
    "\n",
    "print(\"# Surveys that took over an hour to take (including landing pad time)\")\n",
    "print(sum(df[\"total_time_taken_(mins)\"] >= 60))\n",
    "\n",
    "print(\"# Surveys that took over an hour to take (excluding landing pad time)\")\n",
    "print(sum(df[\"total_survey_time_taken_(mins)\"] >= 60))\n",
    "\n",
    "print(\"# Surveys that spent over an hour on the landing pad\")\n",
    "print(sum(df[\"introelapse\"]/60 >= 60))\n",
    "\n",
    "if verbose: \n",
    "    df[\"total_time_taken_(mins)\"][df[\"total_time_taken_(mins)\"] < 60].hist()\n",
    "    plt.subplots()\n",
    "    df[\"total_survey_time_taken_(mins)\"][df[\"total_survey_time_taken_(mins)\"] < 60].hist()\n",
    "    plt.subplots()\n",
    "    df[\"introelapse\"][df[\"introelapse\"] < 60].hist()\n",
    "\n",
    "# Even though these surveys took a lot longer than seems reasonable, there are no clear indications in the \n",
    "# subjects' answers that any of these responses should be dropped. "
   ]
  },
  {
   "cell_type": "code",
   "execution_count": 78,
   "metadata": {},
   "outputs": [],
   "source": [
    "if verbose: \n",
    "    with pd.option_context('display.max_rows', None, 'display.max_columns', None):  # more options can be specified also\n",
    "        display(df[df[\"introelapse\"]/60 >= 60])"
   ]
  },
  {
   "cell_type": "code",
   "execution_count": 79,
   "metadata": {},
   "outputs": [],
   "source": [
    "# Looking at the 50 fastest responses\n",
    "if verbose:\n",
    "    with pd.option_context('display.max_rows', None, 'display.max_columns', None):\n",
    "        display(df.sort_values(by=\"total_time_taken_(mins)\")[:50])\n",
    "    \n",
    "# Again, none of these look totally wrong. "
   ]
  },
  {
   "cell_type": "code",
   "execution_count": 80,
   "metadata": {},
   "outputs": [
    {
     "name": "stdout",
     "output_type": "stream",
     "text": [
      "# Rows with matching entries in columsn Q1, Q2, ..., Q15\n",
      "98\n"
     ]
    }
   ],
   "source": [
    "# Did any respondents put the same thing for each question in the GCB inventory? \n",
    "print(\"# Rows with matching entries in columsn Q1, Q2, ..., Q15\")\n",
    "print(sum(df[[\"Q\" + str(i) for i in range(1, 16)]].apply(lambda x: min(x) == max(x), 1)))\n",
    "if verbose:\n",
    "    with pd.option_context('display.max_rows', None, 'display.max_columns', None):\n",
    "        display(df[df[[\"Q\" + str(i) for i in range(1, 16)]].apply(lambda x: min(x) == max(x), 1)])\n"
   ]
  },
  {
   "cell_type": "code",
   "execution_count": null,
   "metadata": {},
   "outputs": [],
   "source": []
  }
 ],
 "metadata": {
  "kernelspec": {
   "display_name": "Python 3 (ipykernel)",
   "language": "python",
   "name": "python3"
  },
  "language_info": {
   "codemirror_mode": {
    "name": "ipython",
    "version": 3
   },
   "file_extension": ".py",
   "mimetype": "text/x-python",
   "name": "python",
   "nbconvert_exporter": "python",
   "pygments_lexer": "ipython3",
   "version": "3.9.7"
  }
 },
 "nbformat": 4,
 "nbformat_minor": 4
}
