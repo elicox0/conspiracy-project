{
 "cells": [
  {
   "cell_type": "code",
   "execution_count": 2,
   "metadata": {},
   "outputs": [],
   "source": [
    "import numpy as np\n",
    "import pandas as pd\n",
    "from matplotlib import pyplot as plt\n",
    "\n",
    "from sklearn.model_selection import train_test_split, GridSearchCV\n",
    "from sklearn.ensemble import RandomForestRegressor\n",
    "from sklearn.linear_model import ElasticNet\n",
    "\n",
    "import statsmodels.regression.linear_model as lm"
   ]
  },
  {
   "cell_type": "markdown",
   "metadata": {},
   "source": [
    "### Load Data and Engineer Features"
   ]
  },
  {
   "cell_type": "code",
   "execution_count": 3,
   "metadata": {},
   "outputs": [],
   "source": [
    "data_directory = \"data/\"\n",
    "df = pd.read_csv(data_directory + \"conspiracy_theories_data_orig.csv\")\n",
    "verbose = False\n",
    "# Only NaN values are in \"major\" column, so no other cleaning is necessary to remove NaN values\n",
    "# Benefit of working with survey data as opposed to data collected using messier methods\n",
    "\n",
    "# Measure for General Conspiracy Belief. Normalized average of responses to questions 1-15 of survey\n",
    "df['GCB'] = df[['Q'+str(i) for i in range(1, 16)]].mean(axis=1) / 5\n",
    "\n",
    "# Score how many vocab questions the respondent answered correctly. 0 is correct for VCL 6, 9, 12, and 1 is correct for all others.\n",
    "df['vocabulary_knowledge'] = pd.concat((df[['VCL' + str(i) for i in [1, 2, 3, 4, 5, 7, 8, 10, 11, 13, 14, 15, 16]]], \n",
    "                                        (1 - df[['VCL' + str(i) for i in [6,9,12]]])), axis=1).mean(axis=1)\n",
    "\n",
    "# The survey asked participants what words they knew. Columns VCL6, VCL9, VCL12 were not real words, and were included in \n",
    "# order to perform a validity check\n",
    "df['vocabulary_misclassification'] = df[['VCL6', 'VCL9', 'VCL12']].mean(axis=1)\n",
    "\n",
    "# Split up every instance of \"major\" to a category: HUM (Humanities), BUS (business/law), ART, STEM, and OTHER. \n",
    "# This block creates a one-hot encoding for each of these.\n",
    "names = [\"STEM\", \"HUM\", \"BUS\", \"OTHER\", \"ART\"]\n",
    "for name in names:\n",
    "    # For each category, there is a file of strings of majors that should be classified as that category\n",
    "    # Read in the corresponding file\n",
    "    tf = open(data_directory + f\"{name}.txt\", \"r\",newline='\\n')\n",
    "    # Grab all the strings in the file\n",
    "    majors = [i[:-2] for i in tf.readlines()]\n",
    "    def func(x): # If string is in the list of majors, return a 1, else a 0\n",
    "        return int(x in majors)\n",
    "    func = np.vectorize(func)\n",
    "    df[name] = 1 \n",
    "    df[name] = df.major.apply(func) # Create  a new column with the one hot encoding for the given category"
   ]
  },
  {
   "cell_type": "markdown",
   "metadata": {},
   "source": [
    "#### Defining Edit Distance (from internet)"
   ]
  },
  {
   "cell_type": "code",
   "execution_count": 4,
   "metadata": {},
   "outputs": [],
   "source": [
    "def levenshteinDistance(s1, s2):\n",
    "    if len(s1) > len(s2):\n",
    "        s1, s2 = s2, s1\n",
    "    distances = range(len(s1) + 1)\n",
    "    for i2, c2 in enumerate(s2):\n",
    "        distances_ = [i2+1]\n",
    "        for i1, c1 in enumerate(s1):\n",
    "            if c1 == c2:\n",
    "                distances_.append(distances[i1])\n",
    "            else:\n",
    "                distances_.append(1 + min((distances[i1], distances[i1 + 1], distances_[-1])))\n",
    "        distances = distances_\n",
    "    return distances[-1]"
   ]
  },
  {
   "cell_type": "markdown",
   "metadata": {},
   "source": [
    "#### Categorizing Unknown Majors"
   ]
  },
  {
   "cell_type": "code",
   "execution_count": 5,
   "metadata": {},
   "outputs": [],
   "source": [
    "#select unassigned\n",
    "unassigned = df[df[\"STEM\"]+df[\"HUM\"]+df[\"BUS\"]+df[\"OTHER\"]+df[\"ART\"] == 0]\n",
    "categories = [\"STEM\", \"HUM\", \"BUS\", \"OTHER\", \"ART\"]\n",
    "score = dict()\n",
    "for index,unknown_string in zip(unassigned.index,unassigned['major']):\n",
    "    for category in categories:\n",
    "        tf = open(f\"data/{category}.txt\", \"r\",newline='\\n')\n",
    "        majors = [i[:-2] for i in tf.readlines()]\n",
    "        score[category] = min([levenshteinDistance(str(maj),str(unknown_string)) for maj in majors])\n",
    "    min_key = min(score, key=score.get)\n",
    "    df.loc[index,min_key] = 1"
   ]
  },
  {
   "cell_type": "code",
   "execution_count": 6,
   "metadata": {},
   "outputs": [],
   "source": [
    "# One hot encode the other categorical features\n",
    "categorical_columns = ['education','urban', 'gender', 'engnat', 'hand', 'religion', 'orientation','race', 'voted', 'married']\n",
    "df = pd.get_dummies(df, columns=categorical_columns, drop_first=True)\n",
    "df[\"constant\"] = 1\n",
    "\n",
    "# Engineer some features about the time taken on the survey for reviewing edge cases (not to be used in regression).\n",
    "df[\"total_time_taken_(mins)\"] = (df[\"introelapse\"] + df[\"testelapse\"] + df[\"surveyelapse\"])/60\n",
    "df[\"total_survey_time_taken_(mins)\"] = (df[\"testelapse\"] + df[\"surveyelapse\"])/60"
   ]
  },
  {
   "cell_type": "markdown",
   "metadata": {},
   "source": [
    "### Review Edge Cases "
   ]
  },
  {
   "cell_type": "code",
   "execution_count": 7,
   "metadata": {},
   "outputs": [
    {
     "name": "stdout",
     "output_type": "stream",
     "text": [
      "# Surveys that took over an hour to take (including landing pad time)\n",
      "64\n",
      "# Surveys that took over an hour to take (excluding landing pad time)\n",
      "20\n",
      "# Surveys that spent over an hour on the landing pad\n",
      "44\n"
     ]
    }
   ],
   "source": [
    "print(\"# Surveys that took over an hour to take (including landing pad time)\")\n",
    "print(sum(df[\"total_time_taken_(mins)\"] >= 60))\n",
    "\n",
    "print(\"# Surveys that took over an hour to take (excluding landing pad time)\")\n",
    "print(sum(df[\"total_survey_time_taken_(mins)\"] >= 60))\n",
    "\n",
    "print(\"# Surveys that spent over an hour on the landing pad\")\n",
    "print(sum(df[\"introelapse\"]/60 >= 60))\n",
    "\n",
    "if verbose: \n",
    "    df[\"total_time_taken_(mins)\"][df[\"total_time_taken_(mins)\"] < 60].hist()\n",
    "    plt.subplots()\n",
    "    df[\"total_survey_time_taken_(mins)\"][df[\"total_survey_time_taken_(mins)\"] < 60].hist()\n",
    "    plt.subplots()\n",
    "    df[\"introelapse\"][df[\"introelapse\"] < 60].hist()\n",
    "\n",
    "# Even though these surveys took a lot longer than seems reasonable, there are no clear indications in the \n",
    "# subjects' answers that any of these responses should be dropped. "
   ]
  },
  {
   "cell_type": "code",
   "execution_count": 8,
   "metadata": {},
   "outputs": [],
   "source": [
    "if verbose: \n",
    "    with pd.option_context('display.max_rows', None, 'display.max_columns', None):  # more options can be specified also\n",
    "        display(df[df[\"introelapse\"]/60 >= 60])"
   ]
  },
  {
   "cell_type": "code",
   "execution_count": 9,
   "metadata": {},
   "outputs": [],
   "source": [
    "# Looking at the 50 fastest responses\n",
    "if verbose:\n",
    "    with pd.option_context('display.max_rows', None, 'display.max_columns', None):\n",
    "        display(df.sort_values(by=\"total_time_taken_(mins)\")[:50])\n",
    "    \n",
    "# Again, none of these look responses have any obvious indications that they should be dropped"
   ]
  },
  {
   "cell_type": "code",
   "execution_count": 10,
   "metadata": {},
   "outputs": [
    {
     "name": "stdout",
     "output_type": "stream",
     "text": [
      "# Rows with matching entries in columsn Q1, Q2, ..., Q15\n",
      "98\n"
     ]
    }
   ],
   "source": [
    "# Did any respondents put the same thing for each question in the GCB inventory? \n",
    "print(\"# Rows with matching entries in columsn Q1, Q2, ..., Q15\")\n",
    "print(sum(df[[\"Q\" + str(i) for i in range(1, 16)]].apply(lambda x: min(x) == max(x), 1)))\n",
    "if verbose:\n",
    "    with pd.option_context('display.max_rows', None, 'display.max_columns', None):\n",
    "        display(df[df[[\"Q\" + str(i) for i in range(1, 16)]].apply(lambda x: min(x) == max(x), 1)])\n"
   ]
  },
  {
   "cell_type": "markdown",
   "metadata": {},
   "source": [
    "### Analysis and Regression"
   ]
  },
  {
   "cell_type": "code",
   "execution_count": 11,
   "metadata": {},
   "outputs": [],
   "source": [
    "# Drop all the columns that are used for feature engineering and cleaning.\n",
    "df.drop(columns=['Q'+str(i) for i in range(1, 16)], inplace=True) # Drop the specific question information from which GCB is computed\n",
    "df.drop(columns=['E'+str(i) for i in range(1, 16)], inplace=True) # Timing information\n",
    "df.drop(columns=['VCL'+str(i) for i in range(1, 17)], inplace=True) # Specific vocabulary questions, rolled into \n",
    "df.drop(columns=['total_time_taken_(mins)', 'total_survey_time_taken_(mins)', \n",
    "                 'introelapse', 'surveyelapse', 'testelapse'], inplace=True)\n",
    "df.drop(columns=['major'], inplace=True)"
   ]
  },
  {
   "cell_type": "code",
   "execution_count": 12,
   "metadata": {},
   "outputs": [],
   "source": [
    "y = df['GCB']\n",
    "X = df.drop(columns=['GCB'])"
   ]
  },
  {
   "cell_type": "code",
   "execution_count": 13,
   "metadata": {},
   "outputs": [
    {
     "name": "stdout",
     "output_type": "stream",
     "text": [
      "                            OLS Regression Results                            \n",
      "==============================================================================\n",
      "Dep. Variable:                    GCB   R-squared:                       0.186\n",
      "Model:                            OLS   Adj. R-squared:                  0.165\n",
      "Method:                 Least Squares   F-statistic:                     9.108\n",
      "Date:                Wed, 01 Dec 2021   Prob (F-statistic):           2.08e-71\n",
      "Time:                        17:10:35   Log-Likelihood:                 649.22\n",
      "No. Observations:                2495   AIC:                            -1174.\n",
      "Df Residuals:                    2433   BIC:                            -813.5\n",
      "Df Model:                          61                                         \n",
      "Covariance Type:            nonrobust                                         \n",
      "================================================================================================\n",
      "                                   coef    std err          t      P>|t|      [0.025      0.975]\n",
      "------------------------------------------------------------------------------------------------\n",
      "TIPI1                            0.0038      0.003      1.477      0.140      -0.001       0.009\n",
      "TIPI2                            0.0120      0.002      5.225      0.000       0.008       0.017\n",
      "TIPI3                            0.0021      0.003      0.811      0.418      -0.003       0.007\n",
      "TIPI4                            0.0007      0.003      0.265      0.791      -0.004       0.006\n",
      "TIPI5                            0.0032      0.003      1.076      0.282      -0.003       0.009\n",
      "TIPI6                            0.0029      0.003      1.053      0.292      -0.002       0.008\n",
      "TIPI7                            0.0002      0.002      0.062      0.951      -0.005       0.005\n",
      "TIPI8                            0.0008      0.002      0.332      0.740      -0.004       0.005\n",
      "TIPI9                           -0.0045      0.003     -1.658      0.097      -0.010       0.001\n",
      "TIPI10                          -0.0105      0.002     -4.293      0.000      -0.015      -0.006\n",
      "age                           1.135e-05    5.6e-06      2.027      0.043    3.71e-07    2.23e-05\n",
      "familysize                       0.0025      0.002      1.386      0.166      -0.001       0.006\n",
      "vocabulary_knowledge            -0.2489      0.032     -7.883      0.000      -0.311      -0.187\n",
      "vocabulary_misclassification     0.0395      0.018      2.198      0.028       0.004       0.075\n",
      "STEM                            -0.2703      0.191     -1.416      0.157      -0.645       0.104\n",
      "HUM                             -0.2485      0.191     -1.304      0.192      -0.622       0.125\n",
      "BUS                             -0.2374      0.192     -1.239      0.215      -0.613       0.138\n",
      "OTHER                           -0.2319      0.190     -1.218      0.223      -0.605       0.142\n",
      "ART                             -0.2132      0.192     -1.113      0.266      -0.589       0.163\n",
      "education_1                     -0.0213      0.033     -0.643      0.521      -0.086       0.044\n",
      "education_2                      0.0197      0.032      0.616      0.538      -0.043       0.082\n",
      "education_3                      0.0058      0.033      0.177      0.859      -0.058       0.070\n",
      "education_4                     -0.0108      0.034     -0.320      0.749      -0.077       0.055\n",
      "urban_1                         -0.0040      0.033     -0.119      0.905      -0.069       0.061\n",
      "urban_2                         -0.0170      0.033     -0.521      0.603      -0.081       0.047\n",
      "urban_3                          0.0122      0.033      0.373      0.709      -0.052       0.076\n",
      "gender_1                        -0.0185      0.078     -0.235      0.814      -0.172       0.135\n",
      "gender_2                         0.0018      0.078      0.023      0.982      -0.152       0.156\n",
      "gender_3                         0.0002      0.081      0.003      0.998      -0.158       0.158\n",
      "engnat_1                        -0.0272      0.069     -0.396      0.692      -0.162       0.108\n",
      "engnat_2                        -0.0490      0.069     -0.711      0.477      -0.184       0.086\n",
      "hand_1                           0.0114      0.056      0.203      0.839      -0.099       0.121\n",
      "hand_2                           0.0138      0.057      0.240      0.810      -0.099       0.126\n",
      "hand_3                           0.0271      0.059      0.460      0.646      -0.089       0.143\n",
      "religion_1                       0.0054      0.037      0.145      0.885      -0.067       0.078\n",
      "religion_2                      -0.0629      0.037     -1.700      0.089      -0.135       0.010\n",
      "religion_3                       0.0780      0.045      1.721      0.085      -0.011       0.167\n",
      "religion_4                       0.0052      0.038      0.136      0.892      -0.070       0.081\n",
      "religion_5                       0.0175      0.050      0.348      0.728      -0.081       0.116\n",
      "religion_6                      -0.0085      0.039     -0.219      0.827      -0.085       0.068\n",
      "religion_7                       0.0530      0.038      1.384      0.166      -0.022       0.128\n",
      "religion_8                       0.0346      0.054      0.642      0.521      -0.071       0.140\n",
      "religion_9                      -0.0905      0.054     -1.664      0.096      -0.197       0.016\n",
      "religion_10                      0.0463      0.048      0.974      0.330      -0.047       0.140\n",
      "religion_11                     -0.0863      0.101     -0.852      0.394      -0.285       0.112\n",
      "religion_12                      0.1021      0.038      2.710      0.007       0.028       0.176\n",
      "orientation_1                    0.0020      0.035      0.059      0.953      -0.066       0.070\n",
      "orientation_2                   -0.0133      0.036     -0.371      0.710      -0.083       0.057\n",
      "orientation_3                    0.0040      0.038      0.104      0.917      -0.070       0.078\n",
      "orientation_4                   -0.0159      0.038     -0.415      0.678      -0.091       0.059\n",
      "orientation_5                    0.0306      0.038      0.803      0.422      -0.044       0.105\n",
      "race_1                           0.0104      0.046      0.227      0.821      -0.080       0.100\n",
      "race_2                           0.0121      0.060      0.201      0.841      -0.106       0.130\n",
      "race_3                           0.0643      0.052      1.246      0.213      -0.037       0.166\n",
      "race_4                          -0.0012      0.043     -0.028      0.977      -0.086       0.083\n",
      "race_5                           0.0113      0.045      0.254      0.799      -0.076       0.099\n",
      "voted_1                         -0.0553      0.043     -1.288      0.198      -0.139       0.029\n",
      "voted_2                         -0.0351      0.043     -0.825      0.410      -0.119       0.048\n",
      "married_1                       -0.0118      0.052     -0.226      0.821      -0.114       0.091\n",
      "married_2                        0.0272      0.053      0.512      0.608      -0.077       0.131\n",
      "married_3                        0.0369      0.055      0.676      0.499      -0.070       0.144\n",
      "constant                         1.0088      0.233      4.321      0.000       0.551       1.467\n",
      "==============================================================================\n",
      "Omnibus:                       54.783   Durbin-Watson:                   1.942\n",
      "Prob(Omnibus):                  0.000   Jarque-Bera (JB):               31.480\n",
      "Skew:                           0.097   Prob(JB):                     1.46e-07\n",
      "Kurtosis:                       2.485   Cond. No.                     8.53e+04\n",
      "==============================================================================\n",
      "\n",
      "Notes:\n",
      "[1] Standard Errors assume that the covariance matrix of the errors is correctly specified.\n",
      "[2] The condition number is large, 8.53e+04. This might indicate that there are\n",
      "strong multicollinearity or other numerical problems.\n"
     ]
    }
   ],
   "source": [
    "# Statsmodels\n",
    "###### Run a L1-regularization to see which features we should keep and what we can get rid of #######\n",
    "\n",
    "# lamb_list = np.geomspace(10**-10, 10**5, 16)\n",
    "\n",
    "# # # Go through each lambda\n",
    "# #for lamb in lamb_list:\n",
    "# model = lm.OLS(y, X).fit_regularized(alpha=1e-3, L1_wt=1)\n",
    "# beta = model.params\n",
    "# nonzero = np.abs(beta) > 0.01\n",
    "# zero = ~nonzero\n",
    "# # X = X[X.columns[zero.values]]\n",
    "# X = X[X.columns[nonzero.values]]\n",
    "\n",
    "model = lm.OLS(y, X).fit()\n",
    "# print(model.summary().as_latex())\n",
    "print(model.summary())"
   ]
  },
  {
   "cell_type": "code",
   "execution_count": 14,
   "metadata": {},
   "outputs": [
    {
     "name": "stdout",
     "output_type": "stream",
     "text": [
      "0.1811793014442713\n"
     ]
    },
    {
     "data": {
      "text/plain": [
       "{'alpha': 0.001, 'l1_ratio': 0.4842105263157895}"
      ]
     },
     "execution_count": 14,
     "metadata": {},
     "output_type": "execute_result"
    }
   ],
   "source": [
    "# Minimize R^2 with regularization\n",
    "y = df['GCB']\n",
    "X = df.drop(columns=['GCB'])\n",
    "# Elasticnet Regularization with Gridsearch (L1, L2)\n",
    "parameters = {\n",
    "              'alpha': [10**(-k) for k in range(1,6)],\n",
    "              'l1_ratio': np.linspace(.4,.6,20)\n",
    "}\n",
    "\n",
    "reg = ElasticNet()\n",
    "clf = GridSearchCV(reg, parameters, n_jobs=-1)\n",
    "clf.fit(X, y)\n",
    "print(clf.score(X,y))\n",
    "clf.best_params_"
   ]
  },
  {
   "cell_type": "code",
   "execution_count": 15,
   "metadata": {},
   "outputs": [
    {
     "name": "stdout",
     "output_type": "stream",
     "text": [
      "-0.153970587319955\n"
     ]
    },
    {
     "data": {
      "text/plain": [
       "{'alpha': 0.001, 'l1_ratio': 0.4736842105263158}"
      ]
     },
     "execution_count": 15,
     "metadata": {},
     "output_type": "execute_result"
    }
   ],
   "source": [
    "# Minimize MSE with regularization\n",
    "y = df['GCB']\n",
    "X = df.drop(columns=['GCB'])\n",
    "# Elasticnet Regularization with Gridsearch (L1, L2)\n",
    "parameters = {\n",
    "              'alpha': [10**(-k) for k in range(1,6)],\n",
    "              'l1_ratio': np.linspace(0.4,0.6,20)\n",
    "}\n",
    "\n",
    "reg = ElasticNet()\n",
    "clf = GridSearchCV(reg, parameters, n_jobs=-1, scoring='neg_mean_absolute_error')\n",
    "clf.fit(X, y)\n",
    "print(clf.score(X,y))\n",
    "clf.best_params_"
   ]
  },
  {
   "cell_type": "code",
   "execution_count": 21,
   "metadata": {},
   "outputs": [
    {
     "name": "stdout",
     "output_type": "stream",
     "text": [
      "0.5232847330078353\n"
     ]
    },
    {
     "data": {
      "text/plain": [
       "{'max_depth': 10, 'min_samples_leaf': 5, 'n_estimators': 200}"
      ]
     },
     "execution_count": 21,
     "metadata": {},
     "output_type": "execute_result"
    }
   ],
   "source": [
    "# Random Forest Regressor with Gridsearch\n",
    "parameters = {\n",
    "    'n_estimators': [100,200],\n",
    "    'max_depth': list(range(1,6)) + [10],\n",
    "    'min_samples_leaf': range(1,6),\n",
    "}\n",
    "\n",
    "rf = RandomForestRegressor()\n",
    "clf = GridSearchCV(rf, parameters, n_jobs=-1)\n",
    "clf.fit(X,y)\n",
    "print(clf.score(X,y))\n",
    "clf.best_params_"
   ]
  },
  {
   "cell_type": "code",
   "execution_count": null,
   "metadata": {},
   "outputs": [],
   "source": [
    "# Random Forest Regressor with Gridsearch\n",
    "parameters = {\n",
    "    'n_estimators': [100,200],\n",
    "    'max_depth': list(range(1,6)),\n",
    "    'min_samples_leaf': range(1,6),\n",
    "}\n",
    "\n",
    "rf = RandomForestRegressor()\n",
    "clf = GridSearchCV(rf, parameters, n_jobs=-1)\n",
    "clf.fit(X,y)\n",
    "print(clf.score(X,y))\n",
    "clf.best_params_"
   ]
  },
  {
   "cell_type": "code",
   "execution_count": null,
   "metadata": {},
   "outputs": [],
   "source": [
    "# Random Forest Regressor with Gridsearch\n",
    "parameters = {\n",
    "    'n_estimators': [100,200],\n",
    "    'max_depth': list(range(1,6)),\n",
    "    'min_samples_leaf': range(4,7),\n",
    "}\n",
    "\n",
    "rf = RandomForestRegressor()\n",
    "clf = GridSearchCV(rf, parameters, n_jobs=-1)\n",
    "clf.fit(X,y)\n",
    "print(clf.score(X,y))\n",
    "clf.best_params_"
   ]
  },
  {
   "cell_type": "code",
   "execution_count": null,
   "metadata": {},
   "outputs": [],
   "source": [
    "importances = clf.best_estimator_.feature_importances_\n",
    "order = np.argsort(importances)\n",
    "np.vstack((importances[order], X.columns.values[order]))"
   ]
  },
  {
   "cell_type": "code",
   "execution_count": null,
   "metadata": {
    "scrolled": true
   },
   "outputs": [],
   "source": [
    "# Elasticnet Regularization with Gridsearch (L1, L2)\n",
    "parameters = {\n",
    "              'alpha': [10**(-k) for k in range(1,6)],\n",
    "              'l1_ratio': [k/10 for k in range(1,10)]\n",
    "#               'l1_ratio': [0,1]\n",
    "}\n",
    "\n",
    "reg = ElasticNet()\n",
    "clf = GridSearchCV(reg, parameters, n_jobs=-1)\n",
    "clf.fit(X, y)\n",
    "clf.score(X,y)"
   ]
  },
  {
   "cell_type": "markdown",
   "metadata": {},
   "source": [
    "### Creating Age, Vocab, GCB Heatmap"
   ]
  },
  {
   "cell_type": "code",
   "execution_count": null,
   "metadata": {},
   "outputs": [],
   "source": [
    "plt.figure(figsize=(10, 8), dpi=80)\n",
    "noise = np.random.normal(0, .5, df['age'].shape)\n",
    "perturbed_age = df['age'] + noise\n",
    "noise2 = np.random.normal(0, .01, df['vocabulary_knowledge'].shape)\n",
    "perturbed_vocab = df['vocabulary_knowledge'] + noise2\n",
    "plt.scatter(perturbed_age, perturbed_vocab, s=35, c=df['GCB'], cmap='inferno',alpha=.5)\n",
    "plt.colorbar()\n",
    "plt.ylabel('Vocab Score',fontsize=14)\n",
    "plt.xlabel('Age',fontsize=14)\n",
    "plt.xlim(15,80)\n",
    "plt.title('General Conspiracy Belief',fontsize=20)\n",
    "plt.savefig(\"VocabAge_GCB.png\")"
   ]
  },
  {
   "cell_type": "code",
   "execution_count": null,
   "metadata": {},
   "outputs": [],
   "source": []
  }
 ],
 "metadata": {
  "kernelspec": {
   "display_name": "Python 3 (ipykernel)",
   "language": "python",
   "name": "python3"
  },
  "language_info": {
   "codemirror_mode": {
    "name": "ipython",
    "version": 3
   },
   "file_extension": ".py",
   "mimetype": "text/x-python",
   "name": "python",
   "nbconvert_exporter": "python",
   "pygments_lexer": "ipython3",
   "version": "3.7.9"
  }
 },
 "nbformat": 4,
 "nbformat_minor": 4
}
